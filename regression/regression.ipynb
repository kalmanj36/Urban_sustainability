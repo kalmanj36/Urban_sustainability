{
 "cells": [
  {
   "cell_type": "code",
   "execution_count": 23,
   "id": "a65c028f-1af5-4bbb-8aa3-e66e6c641989",
   "metadata": {},
   "outputs": [],
   "source": [
    "import pandas as pd\n",
    "import statsmodels.api as sm"
   ]
  },
  {
   "cell_type": "code",
   "execution_count": 5,
   "id": "2f647525-ee56-46b8-bac2-3c84fbfb3008",
   "metadata": {},
   "outputs": [],
   "source": [
    "import matplotlib.pyplot as plt\n",
    "import numpy as np\n",
    "import geopandas as gpd\n",
    "veg_merged = gpd.read_file(\"veg_data.gpkg\")\n",
    "heat_merged = gpd.read_file(\"heat_data.gpkg\")"
   ]
  },
  {
   "cell_type": "code",
   "execution_count": 19,
   "id": "228996a7-8256-4d0e-92bf-c0b3909189ef",
   "metadata": {},
   "outputs": [
    {
     "name": "stdout",
     "output_type": "stream",
     "text": [
      "         geocode bufferzone  como.rate  veg_coverage veg_cat  \\\n",
      "0    42101039100     Inside   0.000000      0.105444    High   \n",
      "1    42101980902     Inside   0.000000      0.073512  Medium   \n",
      "2    42101980904    Outside   0.000000      0.044030  Medium   \n",
      "3    42101980903     Inside   0.000000      0.053183  Medium   \n",
      "4    42101980906    Outside   0.000000      0.046935  Medium   \n",
      "..           ...        ...        ...           ...     ...   \n",
      "403  42101013602    Outside   0.143333      0.048246  Medium   \n",
      "404  42101034502    Outside   0.279412      0.059248  Medium   \n",
      "405  42101000902     Inside   0.225490      0.072492  Medium   \n",
      "406  42101001201     Inside   0.132701      0.066854  Medium   \n",
      "407  42101002702     Inside   0.198238      0.055700  Medium   \n",
      "\n",
      "                                              geometry  heat_coverage  \n",
      "0    MULTIPOLYGON (((-75.22235 39.93105, -75.22129 ...       0.334663  \n",
      "1    MULTIPOLYGON (((-75.20684 39.93409, -75.20655 ...       0.325128  \n",
      "2    MULTIPOLYGON (((-75.21243 39.92523, -75.21130 ...       0.350612  \n",
      "3    MULTIPOLYGON (((-75.20422 39.93285, -75.20305 ...       0.343371  \n",
      "4    MULTIPOLYGON (((-75.21612 39.90964, -75.21454 ...       0.339384  \n",
      "..                                                 ...            ...  \n",
      "403  MULTIPOLYGON (((-75.18637 39.97354, -75.18604 ...       0.324696  \n",
      "404  MULTIPOLYGON (((-75.04729 40.08293, -75.04652 ...       0.364994  \n",
      "405  MULTIPOLYGON (((-75.16017 39.94686, -75.16014 ...       0.303564  \n",
      "406  MULTIPOLYGON (((-75.18714 39.94722, -75.18563 ...       0.312582  \n",
      "407  MULTIPOLYGON (((-75.15285 39.92511, -75.15277 ...       0.323058  \n",
      "\n",
      "[408 rows x 7 columns]\n"
     ]
    }
   ],
   "source": [
    "allmerged = veg_merged.merge(heat_merged[['geocode', 'heat_coverage']], on='geocode', how='left')\n",
    "allmerged = allmerged[allmerged['como.rate'] != 0]"
   ]
  },
  {
   "cell_type": "code",
   "execution_count": 20,
   "id": "8e0ea559-203d-4bdb-913d-abe7962d7afd",
   "metadata": {},
   "outputs": [
    {
     "name": "stdout",
     "output_type": "stream",
     "text": [
      "         geocode bufferzone  como.rate  veg_coverage veg_cat  \\\n",
      "6    42101036700     Inside   0.134615      0.058302  Medium   \n",
      "7    42101034702    Outside   0.262295      0.100838    High   \n",
      "8    42101034801    Outside   0.216667      0.087644    High   \n",
      "9    42101034802    Outside   0.276923      0.087748    High   \n",
      "10   42101034900    Outside   0.250000      0.070949  Medium   \n",
      "..           ...        ...        ...           ...     ...   \n",
      "403  42101013602    Outside   0.143333      0.048246  Medium   \n",
      "404  42101034502    Outside   0.279412      0.059248  Medium   \n",
      "405  42101000902     Inside   0.225490      0.072492  Medium   \n",
      "406  42101001201     Inside   0.132701      0.066854  Medium   \n",
      "407  42101002702     Inside   0.198238      0.055700  Medium   \n",
      "\n",
      "                                              geometry  heat_coverage  \n",
      "6    MULTIPOLYGON (((-75.14886 39.95774, -75.14885 ...       0.322135  \n",
      "7    MULTIPOLYGON (((-75.03647 40.05396, -75.03637 ...       0.321544  \n",
      "8    MULTIPOLYGON (((-75.02482 40.06029, -75.02466 ...       0.330505  \n",
      "9    MULTIPOLYGON (((-75.02184 40.06326, -75.02171 ...       0.336069  \n",
      "10   MULTIPOLYGON (((-75.02212 40.03806, -75.02209 ...       0.342816  \n",
      "..                                                 ...            ...  \n",
      "403  MULTIPOLYGON (((-75.18637 39.97354, -75.18604 ...       0.324696  \n",
      "404  MULTIPOLYGON (((-75.04729 40.08293, -75.04652 ...       0.364994  \n",
      "405  MULTIPOLYGON (((-75.16017 39.94686, -75.16014 ...       0.303564  \n",
      "406  MULTIPOLYGON (((-75.18714 39.94722, -75.18563 ...       0.312582  \n",
      "407  MULTIPOLYGON (((-75.15285 39.92511, -75.15277 ...       0.323058  \n",
      "\n",
      "[358 rows x 7 columns]\n"
     ]
    }
   ],
   "source": [
    "print(allmerged)\n"
   ]
  },
  {
   "cell_type": "code",
   "execution_count": 21,
   "id": "4bd5ec8d-2a8e-41ea-995e-8ed52586243b",
   "metadata": {},
   "outputs": [
    {
     "data": {
      "image/png": "[encoded data removed]",
      "text/plain": [
       "<Figure size 1000x600 with 1 Axes>"
      ]
     },
     "metadata": {},
     "output_type": "display_data"
    }
   ],
   "source": [
    "data=allmerged['como.rate']\n",
    "plt.figure(figsize=(10, 6))\n",
    "plt.hist(data, bins=20, color='skyblue', edgecolor='black')  # Flatten in case it's a 2D array\n",
    "plt.title('Histogram of DV- Comorbidity rate')  # Change to 'dv' if necessary\n",
    "plt.xlabel('Value')\n",
    "plt.ylabel('Frequency')\n",
    "plt.grid(True)\n",
    "plt.show()"
   ]
  },
  {
   "cell_type": "code",
   "execution_count": 24,
   "id": "ac07778e-0eb5-44df-89f2-9180e2932e19",
   "metadata": {},
   "outputs": [],
   "source": [
    "X = allmerged[['veg_coverage','heat_coverage']]\n",
    "X = sm.add_constant(X)\n",
    "y = allmerged['como.rate'] "
   ]
  },
  {
   "cell_type": "code",
   "execution_count": 29,
   "id": "72b687e0-5e82-48e4-adb9-a10a3b5ee787",
   "metadata": {},
   "outputs": [
    {
     "name": "stdout",
     "output_type": "stream",
     "text": [
      "                            OLS Regression Results                            \n",
      "==============================================================================\n",
      "Dep. Variable:              como.rate   R-squared:                       0.051\n",
      "Model:                            OLS   Adj. R-squared:                  0.046\n",
      "Method:                 Least Squares   F-statistic:                     9.590\n",
      "Date:                Sun, 27 Apr 2025   Prob (F-statistic):           8.79e-05\n",
      "Time:                        18:40:23   Log-Likelihood:                 398.91\n",
      "No. Observations:                 358   AIC:                            -791.8\n",
      "Df Residuals:                     355   BIC:                            -780.2\n",
      "Df Model:                           2                                         \n",
      "Covariance Type:            nonrobust                                         \n",
      "=================================================================================\n",
      "                    coef    std err          t      P>|t|      [0.025      0.975]\n",
      "---------------------------------------------------------------------------------\n",
      "const            -0.0172      0.063     -0.271      0.787      -0.142       0.107\n",
      "veg_coverage      0.0111      0.211      0.053      0.958      -0.403       0.426\n",
      "heat_coverage     0.7440      0.171      4.349      0.000       0.408       1.081\n",
      "==============================================================================\n",
      "Omnibus:                       95.735   Durbin-Watson:                   1.637\n",
      "Prob(Omnibus):                  0.000   Jarque-Bera (JB):              361.876\n",
      "Skew:                           1.125   Prob(JB):                     2.63e-79\n",
      "Kurtosis:                       7.381   Cond. No.                         54.7\n",
      "==============================================================================\n",
      "\n",
      "Notes:\n",
      "[1] Standard Errors assume that the covariance matrix of the errors is correctly specified.\n"
     ]
    }
   ],
   "source": [
    "model = sm.OLS(y, X).fit()  # Ordinary Least Squares (OLS) regression\n",
    "\n",
    "# Step 4: Display the regression results\n",
    "print(model.summary())"
   ]
  },
  {
   "cell_type": "code",
   "execution_count": null,
   "id": "6b346738-bea2-4aaa-b890-c2bff721132b",
   "metadata": {},
   "outputs": [],
   "source": []
  },
  {
   "cell_type": "code",
   "execution_count": 30,
   "id": "c45c7d8a-94d9-4d7c-847f-3400570e2bbc",
   "metadata": {},
   "outputs": [],
   "source": [
    "import pickle\n",
    "import statsmodels.api as sm\n",
    "with open('modelupdate.pkl', 'wb') as file:\n",
    "    pickle.dump(model, file)\n"
   ]
  },
  {
   "cell_type": "code",
   "execution_count": null,
   "id": "8d925229-18cf-48eb-a31a-0d873c503c7d",
   "metadata": {},
   "outputs": [],
   "source": []
  },
  {
   "cell_type": "code",
   "execution_count": null,
   "id": "4455fc06-84ed-44f3-8bb9-250aa0f5853f",
   "metadata": {},
   "outputs": [],
   "source": []
  },
  {
   "cell_type": "code",
   "execution_count": null,
   "id": "031a530a-3154-4fb0-b6ec-89cd1f759e0d",
   "metadata": {},
   "outputs": [],
   "source": []
  },
  {
   "cell_type": "code",
   "execution_count": null,
   "id": "d5d80cdb-399f-4db3-8476-128a95205349",
   "metadata": {},
   "outputs": [],
   "source": []
  },
  {
   "cell_type": "code",
   "execution_count": null,
   "id": "9d3f2af4-ec9b-423b-a75f-37ce1444e4ac",
   "metadata": {},
   "outputs": [],
   "source": []
  },
  {
   "cell_type": "code",
   "execution_count": null,
   "id": "f1113de5-98eb-4395-a39a-f6565aa7285c",
   "metadata": {},
   "outputs": [],
   "source": []
  }
 ],
 "metadata": {
  "kernelspec": {
   "display_name": "Python 3 (ipykernel)",
   "language": "python",
   "name": "python3"
  },
  "language_info": {
   "codemirror_mode": {
    "name": "ipython",
    "version": 3
   },
   "file_extension": ".py",
   "mimetype": "text/x-python",
   "name": "python",
   "nbconvert_exporter": "python",
   "pygments_lexer": "ipython3",
   "version": "3.10.16"
  }
 },
 "nbformat": 4,
 "nbformat_minor": 5
}
