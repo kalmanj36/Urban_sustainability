{
 "cells": [
  {
   "cell_type": "code",
   "execution_count": 8,
   "id": "3d4a2825-551c-473c-8b6a-d2f4ac1a0f57",
   "metadata": {},
   "outputs": [],
   "source": [
    "import pandas as pd\n",
    "import statsmodels.api as sm\n",
    "import matplotlib.pyplot as plt\n",
    "import numpy as np\n",
    "import geopandas as gpd"
   ]
  },
  {
   "cell_type": "code",
   "execution_count": 12,
   "id": "4726a5b7-e9b8-4433-85c5-e3c9aa5b30c7",
   "metadata": {},
   "outputs": [
    {
     "name": "stdout",
     "output_type": "stream",
     "text": [
      "                            OLS Regression Results                            \n",
      "==============================================================================\n",
      "Dep. Variable:              como.rate   R-squared:                       0.051\n",
      "Model:                            OLS   Adj. R-squared:                  0.046\n",
      "Method:                 Least Squares   F-statistic:                     9.590\n",
      "Date:                Sun, 27 Apr 2025   Prob (F-statistic):           8.79e-05\n",
      "Time:                        18:40:55   Log-Likelihood:                 398.91\n",
      "No. Observations:                 358   AIC:                            -791.8\n",
      "Df Residuals:                     355   BIC:                            -780.2\n",
      "Df Model:                           2                                         \n",
      "Covariance Type:            nonrobust                                         \n",
      "=================================================================================\n",
      "                    coef    std err          t      P>|t|      [0.025      0.975]\n",
      "---------------------------------------------------------------------------------\n",
      "const            -0.0172      0.063     -0.271      0.787      -0.142       0.107\n",
      "veg_coverage      0.0111      0.211      0.053      0.958      -0.403       0.426\n",
      "heat_coverage     0.7440      0.171      4.349      0.000       0.408       1.081\n",
      "==============================================================================\n",
      "Omnibus:                       95.735   Durbin-Watson:                   1.637\n",
      "Prob(Omnibus):                  0.000   Jarque-Bera (JB):              361.876\n",
      "Skew:                           1.125   Prob(JB):                     2.63e-79\n",
      "Kurtosis:                       7.381   Cond. No.                         54.7\n",
      "==============================================================================\n",
      "\n",
      "Notes:\n",
      "[1] Standard Errors assume that the covariance matrix of the errors is correctly specified.\n"
     ]
    }
   ],
   "source": [
    "import pickle\n",
    "with open(\"modelupdate.pkl\", \"rb\") as f:\n",
    "    model = pickle.load(f)\n",
    "print(model.summary())\n",
    "\n"
   ]
  },
  {
   "cell_type": "code",
   "execution_count": 13,
   "id": "95688437-ffae-4db0-9463-41cf1050f74b",
   "metadata": {},
   "outputs": [
    {
     "name": "stdout",
     "output_type": "stream",
     "text": [
      "         geocode bufferzone  como.rate  veg_coverage veg_cat  heat_coverage  \\\n",
      "0    42101039100     Inside   0.000000      0.105444    High       0.334663   \n",
      "1    42101980902     Inside   0.000000      0.073512  Medium       0.325128   \n",
      "2    42101980904    Outside   0.000000      0.044030  Medium       0.350612   \n",
      "3    42101980903     Inside   0.000000      0.053183  Medium       0.343371   \n",
      "4    42101980906    Outside   0.000000      0.046935  Medium       0.339384   \n",
      "..           ...        ...        ...           ...     ...            ...   \n",
      "403  42101013602    Outside   0.143333      0.048246  Medium       0.324696   \n",
      "404  42101034502    Outside   0.279412      0.059248  Medium       0.364994   \n",
      "405  42101000902     Inside   0.225490      0.072492  Medium       0.303564   \n",
      "406  42101001201     Inside   0.132701      0.066854  Medium       0.312582   \n",
      "407  42101002702     Inside   0.198238      0.055700  Medium       0.323058   \n",
      "\n",
      "     pred_como.rate                                           geometry  \n",
      "0          0.194838  MULTIPOLYGON (((-75.22235 39.93105, -75.22129 ...  \n",
      "1          0.186446  MULTIPOLYGON (((-75.20684 39.93409, -75.20655 ...  \n",
      "2          0.217650  MULTIPOLYGON (((-75.21243 39.92523, -75.21130 ...  \n",
      "3          0.208725  MULTIPOLYGON (((-75.20422 39.93285, -75.20305 ...  \n",
      "4          0.204673  MULTIPOLYGON (((-75.21612 39.90964, -75.21454 ...  \n",
      "..              ...                                                ...  \n",
      "403        0.187886  MULTIPOLYGON (((-75.18637 39.97354, -75.18604 ...  \n",
      "404        0.232826  MULTIPOLYGON (((-75.04729 40.08293, -75.04652 ...  \n",
      "405        0.162027  MULTIPOLYGON (((-75.16017 39.94686, -75.16014 ...  \n",
      "406        0.172703  MULTIPOLYGON (((-75.18714 39.94722, -75.18563 ...  \n",
      "407        0.185456  MULTIPOLYGON (((-75.15285 39.92511, -75.15277 ...  \n",
      "\n",
      "[408 rows x 8 columns]\n"
     ]
    }
   ],
   "source": [
    "import geopandas as gpd\n",
    "\n",
    "all_merged = gpd.read_file(\"allmerged.gpkg\")\n",
    "print(all_merged)"
   ]
  },
  {
   "cell_type": "code",
   "execution_count": null,
   "id": "a60ef585-eae5-4c63-8c31-a9adc4e05267",
   "metadata": {},
   "outputs": [],
   "source": []
  },
  {
   "cell_type": "code",
   "execution_count": null,
   "id": "13c6a7ac-7360-44e4-9122-e354d11742a5",
   "metadata": {},
   "outputs": [],
   "source": []
  },
  {
   "cell_type": "code",
   "execution_count": 31,
   "id": "a4a8e7db-5d0e-4ba7-8e69-86e674e4d956",
   "metadata": {},
   "outputs": [
    {
     "name": "stdout",
     "output_type": "stream",
     "text": [
      "Region 42101011700 is at high risk.\n",
      "Region 42101029200 is at high risk.\n",
      "Region 42101028400 is at high risk.\n",
      "Region 42101012201 is at high risk.\n",
      "Region 42101009802 is at high risk.\n",
      "Region 42101037500 is at high risk.\n",
      "Region 42101011000 is at high risk.\n",
      "Region 42101011100 is at high risk.\n",
      "Region 42101011400 is at high risk.\n",
      "Region 42101012000 is at high risk.\n",
      "Region 42101012100 is at high risk.\n",
      "Region 42101980500 is at high risk.\n",
      "Region 42101020200 is at high risk.\n",
      "Region 42101020300 is at high risk.\n",
      "Region 42101020500 is at high risk.\n",
      "Region 42101980002 is at high risk.\n",
      "Region 42101989300 is at high risk.\n",
      "Region 42101017000 is at high risk.\n",
      "Region 42101980800 is at high risk.\n",
      "Region 42101010800 is at high risk.\n",
      "Region 42101012204 is at high risk.\n"
     ]
    }
   ],
   "source": [
    "# Define a threshold for 'high risk' based on predicted values\n",
    "threshold= 0.375 #top quartile based on SD\n",
    "high_risk_threshold = all_merged['pred_como.rate'].quantile(0.95)  \n",
    "all_merged['high_risk'] = all_merged['pred_como.rate'] > high_risk_threshold\n",
    "# Loop through GeoDataFrame to identify areas based on heat coverage and comorbidity rate\n",
    "for idx, row in all_merged.iterrows():\n",
    "    if row['heat_coverage'] > threshold and row['pred_como.rate'] > high_risk_threshold:\n",
    "        print(f\"Region {row['geocode']} is at high risk.\")\n"
   ]
  },
  {
   "cell_type": "code",
   "execution_count": 32,
   "id": "0cb85f58-7aa5-4554-982c-7fe092fdd246",
   "metadata": {},
   "outputs": [],
   "source": [
    "all_merged['high_risk'] = (\n",
    "    (all_merged['heat_coverage'] > threshold) &\n",
    "    (all_merged['pred_como.rate'] > high_risk_threshold)\n",
    ")\n"
   ]
  },
  {
   "cell_type": "code",
   "execution_count": 34,
   "id": "748aeb4b-cdec-4700-8884-e1911822ceb6",
   "metadata": {},
   "outputs": [],
   "source": [
    "visual_data = all_merged.copy()\n",
    "\n",
    "# Convert all categorical columns to strings\n",
    "for col in visual_data.select_dtypes(include='category').columns:\n",
    "    visual_data[col] = visual_data[col].astype(str)\n",
    "\n",
    "# Now save safely\n",
    "visual_data.to_file(\"visual_data.gpkg\", driver=\"GPKG\")"
   ]
  },
  {
   "cell_type": "code",
   "execution_count": null,
   "id": "32c743a1-303b-4732-af4a-a0328ec8b25b",
   "metadata": {},
   "outputs": [],
   "source": []
  },
  {
   "cell_type": "code",
   "execution_count": null,
   "id": "fb1e1482-9cf9-4aad-8d70-129b99612a8b",
   "metadata": {},
   "outputs": [],
   "source": []
  },
  {
   "cell_type": "code",
   "execution_count": null,
   "id": "b657aa7e-d61b-4915-bb95-8e1d63a7f250",
   "metadata": {},
   "outputs": [],
   "source": []
  },
  {
   "cell_type": "code",
   "execution_count": null,
   "id": "6b573ade-8358-4cb5-84b3-a2dc7521a957",
   "metadata": {},
   "outputs": [],
   "source": []
  },
  {
   "cell_type": "code",
   "execution_count": null,
   "id": "059c3e55-aba5-4d25-bafc-93b0e780008b",
   "metadata": {},
   "outputs": [],
   "source": []
  }
 ],
 "metadata": {
  "kernelspec": {
   "display_name": "Python 3 (ipykernel)",
   "language": "python",
   "name": "python3"
  },
  "language_info": {
   "codemirror_mode": {
    "name": "ipython",
    "version": 3
   },
   "file_extension": ".py",
   "mimetype": "text/x-python",
   "name": "python",
   "nbconvert_exporter": "python",
   "pygments_lexer": "ipython3",
   "version": "3.10.16"
  }
 },
 "nbformat": 4,
 "nbformat_minor": 5
}
